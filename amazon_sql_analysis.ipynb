{
 "cells": [
  {
   "cell_type": "code",
   "execution_count": 54,
   "id": "847ca76a-b259-43ca-9e90-f36076c9fb6d",
   "metadata": {},
   "outputs": [],
   "source": [
    "import seaborn as sns\n",
    "import matplotlib.pyplot as plt\n",
    "import pandas as pd"
   ]
  },
  {
   "cell_type": "code",
   "execution_count": 10,
   "id": "4df15270-6d21-45a3-a6fe-85a5d13d40dc",
   "metadata": {},
   "outputs": [
    {
     "name": "stdout",
     "output_type": "stream",
     "text": [
      "[('amazon_purchases',), ('amazon_survey',), ('purchases_and_survey',)]\n"
     ]
    }
   ],
   "source": [
    "import sqlite3\n",
    "\n",
    "#Connecting to the SQLite Database\n",
    "connection = sqlite3.connect('amazon_data.db')\n",
    "cursor = connection.cursor()\n",
    "\n",
    "#Printing the available tables\n",
    "cursor.execute(\"SELECT name FROM sqlite_master WHERE type='table';\")\n",
    "tables = cursor.fetchall()\n",
    "print(tables)\n",
    "\n",
    "cursor.execute(\"SELECT * FROM purchases_and_survey;\") \n",
    "rows = cursor.fetchall()\n",
    "df = pd.DataFrame(rows)\n",
    "\n",
    "connection.close()\n"
   ]
  },
  {
   "cell_type": "code",
   "execution_count": 14,
   "id": "2022f554-cf9f-4cf2-9d3c-ba43331ad176",
   "metadata": {},
   "outputs": [],
   "source": [
    "df.columns = df.iloc[0]\n",
    "df = df.drop(0).reset_index(drop=True)"
   ]
  },
  {
   "cell_type": "code",
   "execution_count": 46,
   "id": "830cb5df-7ff8-4976-a6b2-68507a743702",
   "metadata": {},
   "outputs": [
    {
     "name": "stdout",
     "output_type": "stream",
     "text": [
      "0       Q-demos-income Purchase Price Per Unit Quantity\n",
      "1     $150,000 or more               24.556587   275390\n",
      "0  $100,000 - $149,999               23.402198   426644\n",
      "4    $75,000 - $99,999               23.110302   322306\n",
      "3    $50,000 - $74,999               22.667194   401053\n",
      "2    $25,000 - $49,999               21.409348   377228\n",
      "5    Less than $25,000               20.361164   191051\n",
      "6    Prefer not to say               19.418221    21086\n"
     ]
    }
   ],
   "source": [
    "#Analyzing Trends of Income\n",
    "income_trends = df.groupby('Q-demos-income').agg({\n",
    "    'Purchase Price Per Unit': 'mean',\n",
    "    'Quantity': 'sum'\n",
    "}).reset_index()\n",
    "income_trends = income_trends.sort_values(by='Purchase Price Per Unit', ascending=False)\n",
    "print(income_trends)"
   ]
  },
  {
   "cell_type": "code",
   "execution_count": 26,
   "id": "3dcb9766-dd6c-47cd-8ae1-11c2a9738efe",
   "metadata": {},
   "outputs": [
    {
     "name": "stdout",
     "output_type": "stream",
     "text": [
      "0  Shipping Address State Purchase Price Per Unit\n",
      "52                     WY                30.87987\n",
      "22                     ME               28.850299\n",
      "40                     PR               28.845278\n",
      "27                     MT               27.922453\n",
      "12                     HI               27.751902\n",
      "43                     SD               26.276432\n",
      "30                     NE                25.17619\n",
      "1                      AK               25.116085\n",
      "0                                       25.065008\n",
      "14                     ID               24.712815\n",
      "9                      DE               24.049811\n",
      "26                     MS               24.018873\n",
      "18                     KY               23.852749\n",
      "46                     UT               23.837044\n",
      "6                      CO               23.825947\n",
      "2                      AL               23.508135\n",
      "31                     NH               23.362516\n",
      "33                     NM                 23.2056\n",
      "50                     WI               23.196782\n",
      "15                     IL                23.09202\n",
      "10                     FL               23.065897\n",
      "5                      CA               23.058331\n",
      "37                     OK               23.057118\n",
      "7                      CT               23.024437\n",
      "38                     OR               22.828806\n",
      "45                     TX               22.806887\n",
      "13                     IA               22.794062\n",
      "41                     RI               22.793235\n",
      "20                     MA               22.776218\n",
      "47                     VA               22.706619\n",
      "28                     NC               22.657715\n",
      "44                     TN               22.604286\n",
      "21                     MD               22.550933\n",
      "32                     NJ               22.245715\n",
      "23                     MI               22.226832\n",
      "42                     SC               22.221684\n",
      "3                      AR               22.200934\n",
      "11                     GA               22.180284\n",
      "25                     MO               22.120571\n",
      "29                     ND               22.057969\n",
      "34                     NV               21.995391\n",
      "17                     KS               21.979719\n",
      "19                     LA                21.85285\n",
      "24                     MN               21.824366\n",
      "16                     IN               21.796565\n",
      "35                     NY               21.748072\n",
      "4                      AZ               21.687494\n",
      "39                     PA               21.590229\n",
      "36                     OH                21.42684\n",
      "49                     WA               21.127283\n",
      "48                     VT               20.856596\n",
      "8                      DC               18.760916\n",
      "51                     WV               18.411918\n"
     ]
    }
   ],
   "source": [
    "#Analyzing Trends by State\n",
    "state_trends = df.groupby('Shipping Address State').agg({\n",
    "    'Purchase Price Per Unit': 'mean'\n",
    "}).reset_index()\n",
    "state_trends = state_trends.sort_values(by='Purchase Price Per Unit', ascending=False)\n",
    "print(state_trends)"
   ]
  },
  {
   "cell_type": "code",
   "execution_count": 52,
   "id": "8bd3ee22-8bf8-488f-93dd-62d530a74791",
   "metadata": {},
   "outputs": [
    {
     "name": "stdout",
     "output_type": "stream",
     "text": [
      "    Shipping Address State       Q-demos-income Purchase Price Per Unit  \\\n",
      "63                      DE  $100,000 - $149,999              114.518412   \n",
      "154                     ME     $150,000 or more               63.600328   \n",
      "213                     NH  $100,000 - $149,999               44.342221   \n",
      "296                     SD    $50,000 - $74,999               43.639451   \n",
      "327                     VT     $150,000 or more               41.038182   \n",
      "..                     ...                  ...                     ...   \n",
      "97                      IA    Prefer not to say               12.024839   \n",
      "27                      AR    Prefer not to say                   10.99   \n",
      "104                     ID    Prefer not to say                8.826667   \n",
      "205                     ND    Less than $25,000                    7.24   \n",
      "292                     SC    Prefer not to say                6.921864   \n",
      "\n",
      "     Quantity  Row Count  \n",
      "63       1.85        340  \n",
      "154  1.032787        122  \n",
      "213  1.213687       1432  \n",
      "296  1.076923         91  \n",
      "327  1.331169        154  \n",
      "..        ...        ...  \n",
      "97   1.096774         31  \n",
      "27        1.0          2  \n",
      "104       1.0          3  \n",
      "205       1.0          3  \n",
      "292  1.033898         59  \n",
      "\n",
      "[358 rows x 5 columns]\n"
     ]
    }
   ],
   "source": [
    "#Analyzing by State and Income\n",
    "state_income_trends = df.groupby(['Shipping Address State', 'Q-demos-income']).agg({\n",
    "    'Purchase Price Per Unit': 'mean',\n",
    "    'Quantity': 'mean'\n",
    "}).reset_index()\n",
    "\n",
    "row_counts = df.groupby(['Shipping Address State', 'Q-demos-income']).size().reset_index(name='Row Count')\n",
    "state_income_trends = pd.merge(state_income_trends, row_counts, on=['Shipping Address State', 'Q-demos-income'])\n",
    "state_income_trends = state_income_trends.sort_values(by='Purchase Price Per Unit', ascending=False)\n",
    "\n",
    "\n",
    "print(state_income_trends)"
   ]
  },
  {
   "cell_type": "code",
   "execution_count": 58,
   "id": "0e38b8e2-6e8b-45eb-a096-541123aa007f",
   "metadata": {},
   "outputs": [
    {
     "data": {
      "image/png": "[encoded data removed]",
      "text/plain": [
       "<Figure size 1000x600 with 1 Axes>"
      ]
     },
     "metadata": {},
     "output_type": "display_data"
    }
   ],
   "source": [
    "#Graph Purchase Price by State\n",
    "plt.figure(figsize=(10, 6))\n",
    "sns.barplot(x='Shipping Address State', y='Purchase Price Per Unit', data=state_trends)\n",
    "plt.title('Average Purchase Price by State')\n",
    "plt.xticks(rotation=90)\n",
    "plt.show()"
   ]
  },
  {
   "cell_type": "code",
   "execution_count": null,
   "id": "a2b6f060-d802-44fc-84ac-8f0b7a607fb9",
   "metadata": {},
   "outputs": [],
   "source": []
  }
 ],
 "metadata": {
  "kernelspec": {
   "display_name": "Python [conda env:base] *",
   "language": "python",
   "name": "conda-base-py"
  },
  "language_info": {
   "codemirror_mode": {
    "name": "ipython",
    "version": 3
   },
   "file_extension": ".py",
   "mimetype": "text/x-python",
   "name": "python",
   "nbconvert_exporter": "python",
   "pygments_lexer": "ipython3",
   "version": "3.12.7"
  }
 },
 "nbformat": 4,
 "nbformat_minor": 5
}
